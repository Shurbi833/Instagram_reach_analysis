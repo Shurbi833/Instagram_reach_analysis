{
  "cells": [
    {
      "cell_type": "code",
      "execution_count": 1,
      "id": "6497ee08",
      "metadata": {
        "_cell_guid": "b1076dfc-b9ad-4769-8c92-a6c4dae69d19",
        "_uuid": "8f2839f25d086af736a60e9eeb907d3b93b6e0e5",
        "execution": {
          "iopub.execute_input": "2023-06-14T12:32:51.740076Z",
          "iopub.status.busy": "2023-06-14T12:32:51.739689Z",
          "iopub.status.idle": "2023-06-14T12:32:53.436129Z",
          "shell.execute_reply": "2023-06-14T12:32:53.435230Z"
        },
        "papermill": {
          "duration": 1.709865,
          "end_time": "2023-06-14T12:32:53.438883",
          "exception": false,
          "start_time": "2023-06-14T12:32:51.729018",
          "status": "completed"
        },
        "tags": [],
        "id": "6497ee08"
      },
      "outputs": [],
      "source": [
        "import numpy as np # for linear algebra\n",
        "import pandas as pd # for data processing, CSV file I/O (e.g. pd.read_csv)\n",
        "import matplotlib.pyplot as plt\n",
        "import seaborn as sns\n",
        "# Input data files are available in the read-only \"../input/\" directory\n",
        "# For example, running this (by clicking run or pressing Shift+Enter) will list all files under the input directory"
      ]
    },
    {
      "cell_type": "code",
      "execution_count": 3,
      "id": "daeb3167",
      "metadata": {
        "execution": {
          "iopub.execute_input": "2023-06-14T12:32:53.457903Z",
          "iopub.status.busy": "2023-06-14T12:32:53.457158Z",
          "iopub.status.idle": "2023-06-14T12:32:53.485568Z",
          "shell.execute_reply": "2023-06-14T12:32:53.484131Z"
        },
        "papermill": {
          "duration": 0.04123,
          "end_time": "2023-06-14T12:32:53.488764",
          "exception": false,
          "start_time": "2023-06-14T12:32:53.447534",
          "status": "completed"
        },
        "tags": [],
        "id": "daeb3167",
        "outputId": "fe250a6a-5149-4ee0-c54e-ae5fd49a0005",
        "colab": {
          "base_uri": "https://localhost:8080/",
          "height": 321
        }
      },
      "outputs": [
        {
          "output_type": "error",
          "ename": "FileNotFoundError",
          "evalue": "[Errno 2] No such file or directory: 'Instagram_data.csv'",
          "traceback": [
            "\u001b[0;31m---------------------------------------------------------------------------\u001b[0m",
            "\u001b[0;31mFileNotFoundError\u001b[0m                         Traceback (most recent call last)",
            "\u001b[0;32m/tmp/ipython-input-3-3162302952.py\u001b[0m in \u001b[0;36m<cell line: 0>\u001b[0;34m()\u001b[0m\n\u001b[0;32m----> 1\u001b[0;31m \u001b[0mdf\u001b[0m \u001b[0;34m=\u001b[0m \u001b[0mpd\u001b[0m\u001b[0;34m.\u001b[0m\u001b[0mread_csv\u001b[0m\u001b[0;34m(\u001b[0m\u001b[0;34m'Instagram_data.csv'\u001b[0m\u001b[0;34m,\u001b[0m \u001b[0mencoding\u001b[0m\u001b[0;34m=\u001b[0m\u001b[0;34m'latin1'\u001b[0m\u001b[0;34m)\u001b[0m\u001b[0;34m\u001b[0m\u001b[0;34m\u001b[0m\u001b[0m\n\u001b[0m\u001b[1;32m      2\u001b[0m \u001b[0;31m#Character encoding is important because it determines how characters are represented as bytes in the file\u001b[0m\u001b[0;34m\u001b[0m\u001b[0;34m\u001b[0m\u001b[0m\n",
            "\u001b[0;32m/usr/local/lib/python3.11/dist-packages/pandas/io/parsers/readers.py\u001b[0m in \u001b[0;36mread_csv\u001b[0;34m(filepath_or_buffer, sep, delimiter, header, names, index_col, usecols, dtype, engine, converters, true_values, false_values, skipinitialspace, skiprows, skipfooter, nrows, na_values, keep_default_na, na_filter, verbose, skip_blank_lines, parse_dates, infer_datetime_format, keep_date_col, date_parser, date_format, dayfirst, cache_dates, iterator, chunksize, compression, thousands, decimal, lineterminator, quotechar, quoting, doublequote, escapechar, comment, encoding, encoding_errors, dialect, on_bad_lines, delim_whitespace, low_memory, memory_map, float_precision, storage_options, dtype_backend)\u001b[0m\n\u001b[1;32m   1024\u001b[0m     \u001b[0mkwds\u001b[0m\u001b[0;34m.\u001b[0m\u001b[0mupdate\u001b[0m\u001b[0;34m(\u001b[0m\u001b[0mkwds_defaults\u001b[0m\u001b[0;34m)\u001b[0m\u001b[0;34m\u001b[0m\u001b[0;34m\u001b[0m\u001b[0m\n\u001b[1;32m   1025\u001b[0m \u001b[0;34m\u001b[0m\u001b[0m\n\u001b[0;32m-> 1026\u001b[0;31m     \u001b[0;32mreturn\u001b[0m \u001b[0m_read\u001b[0m\u001b[0;34m(\u001b[0m\u001b[0mfilepath_or_buffer\u001b[0m\u001b[0;34m,\u001b[0m \u001b[0mkwds\u001b[0m\u001b[0;34m)\u001b[0m\u001b[0;34m\u001b[0m\u001b[0;34m\u001b[0m\u001b[0m\n\u001b[0m\u001b[1;32m   1027\u001b[0m \u001b[0;34m\u001b[0m\u001b[0m\n\u001b[1;32m   1028\u001b[0m \u001b[0;34m\u001b[0m\u001b[0m\n",
            "\u001b[0;32m/usr/local/lib/python3.11/dist-packages/pandas/io/parsers/readers.py\u001b[0m in \u001b[0;36m_read\u001b[0;34m(filepath_or_buffer, kwds)\u001b[0m\n\u001b[1;32m    618\u001b[0m \u001b[0;34m\u001b[0m\u001b[0m\n\u001b[1;32m    619\u001b[0m     \u001b[0;31m# Create the parser.\u001b[0m\u001b[0;34m\u001b[0m\u001b[0;34m\u001b[0m\u001b[0m\n\u001b[0;32m--> 620\u001b[0;31m     \u001b[0mparser\u001b[0m \u001b[0;34m=\u001b[0m \u001b[0mTextFileReader\u001b[0m\u001b[0;34m(\u001b[0m\u001b[0mfilepath_or_buffer\u001b[0m\u001b[0;34m,\u001b[0m \u001b[0;34m**\u001b[0m\u001b[0mkwds\u001b[0m\u001b[0;34m)\u001b[0m\u001b[0;34m\u001b[0m\u001b[0;34m\u001b[0m\u001b[0m\n\u001b[0m\u001b[1;32m    621\u001b[0m \u001b[0;34m\u001b[0m\u001b[0m\n\u001b[1;32m    622\u001b[0m     \u001b[0;32mif\u001b[0m \u001b[0mchunksize\u001b[0m \u001b[0;32mor\u001b[0m \u001b[0miterator\u001b[0m\u001b[0;34m:\u001b[0m\u001b[0;34m\u001b[0m\u001b[0;34m\u001b[0m\u001b[0m\n",
            "\u001b[0;32m/usr/local/lib/python3.11/dist-packages/pandas/io/parsers/readers.py\u001b[0m in \u001b[0;36m__init__\u001b[0;34m(self, f, engine, **kwds)\u001b[0m\n\u001b[1;32m   1618\u001b[0m \u001b[0;34m\u001b[0m\u001b[0m\n\u001b[1;32m   1619\u001b[0m         \u001b[0mself\u001b[0m\u001b[0;34m.\u001b[0m\u001b[0mhandles\u001b[0m\u001b[0;34m:\u001b[0m \u001b[0mIOHandles\u001b[0m \u001b[0;34m|\u001b[0m \u001b[0;32mNone\u001b[0m \u001b[0;34m=\u001b[0m \u001b[0;32mNone\u001b[0m\u001b[0;34m\u001b[0m\u001b[0;34m\u001b[0m\u001b[0m\n\u001b[0;32m-> 1620\u001b[0;31m         \u001b[0mself\u001b[0m\u001b[0;34m.\u001b[0m\u001b[0m_engine\u001b[0m \u001b[0;34m=\u001b[0m \u001b[0mself\u001b[0m\u001b[0;34m.\u001b[0m\u001b[0m_make_engine\u001b[0m\u001b[0;34m(\u001b[0m\u001b[0mf\u001b[0m\u001b[0;34m,\u001b[0m \u001b[0mself\u001b[0m\u001b[0;34m.\u001b[0m\u001b[0mengine\u001b[0m\u001b[0;34m)\u001b[0m\u001b[0;34m\u001b[0m\u001b[0;34m\u001b[0m\u001b[0m\n\u001b[0m\u001b[1;32m   1621\u001b[0m \u001b[0;34m\u001b[0m\u001b[0m\n\u001b[1;32m   1622\u001b[0m     \u001b[0;32mdef\u001b[0m \u001b[0mclose\u001b[0m\u001b[0;34m(\u001b[0m\u001b[0mself\u001b[0m\u001b[0;34m)\u001b[0m \u001b[0;34m->\u001b[0m \u001b[0;32mNone\u001b[0m\u001b[0;34m:\u001b[0m\u001b[0;34m\u001b[0m\u001b[0;34m\u001b[0m\u001b[0m\n",
            "\u001b[0;32m/usr/local/lib/python3.11/dist-packages/pandas/io/parsers/readers.py\u001b[0m in \u001b[0;36m_make_engine\u001b[0;34m(self, f, engine)\u001b[0m\n\u001b[1;32m   1878\u001b[0m                 \u001b[0;32mif\u001b[0m \u001b[0;34m\"b\"\u001b[0m \u001b[0;32mnot\u001b[0m \u001b[0;32min\u001b[0m \u001b[0mmode\u001b[0m\u001b[0;34m:\u001b[0m\u001b[0;34m\u001b[0m\u001b[0;34m\u001b[0m\u001b[0m\n\u001b[1;32m   1879\u001b[0m                     \u001b[0mmode\u001b[0m \u001b[0;34m+=\u001b[0m \u001b[0;34m\"b\"\u001b[0m\u001b[0;34m\u001b[0m\u001b[0;34m\u001b[0m\u001b[0m\n\u001b[0;32m-> 1880\u001b[0;31m             self.handles = get_handle(\n\u001b[0m\u001b[1;32m   1881\u001b[0m                 \u001b[0mf\u001b[0m\u001b[0;34m,\u001b[0m\u001b[0;34m\u001b[0m\u001b[0;34m\u001b[0m\u001b[0m\n\u001b[1;32m   1882\u001b[0m                 \u001b[0mmode\u001b[0m\u001b[0;34m,\u001b[0m\u001b[0;34m\u001b[0m\u001b[0;34m\u001b[0m\u001b[0m\n",
            "\u001b[0;32m/usr/local/lib/python3.11/dist-packages/pandas/io/common.py\u001b[0m in \u001b[0;36mget_handle\u001b[0;34m(path_or_buf, mode, encoding, compression, memory_map, is_text, errors, storage_options)\u001b[0m\n\u001b[1;32m    871\u001b[0m         \u001b[0;32mif\u001b[0m \u001b[0mioargs\u001b[0m\u001b[0;34m.\u001b[0m\u001b[0mencoding\u001b[0m \u001b[0;32mand\u001b[0m \u001b[0;34m\"b\"\u001b[0m \u001b[0;32mnot\u001b[0m \u001b[0;32min\u001b[0m \u001b[0mioargs\u001b[0m\u001b[0;34m.\u001b[0m\u001b[0mmode\u001b[0m\u001b[0;34m:\u001b[0m\u001b[0;34m\u001b[0m\u001b[0;34m\u001b[0m\u001b[0m\n\u001b[1;32m    872\u001b[0m             \u001b[0;31m# Encoding\u001b[0m\u001b[0;34m\u001b[0m\u001b[0;34m\u001b[0m\u001b[0m\n\u001b[0;32m--> 873\u001b[0;31m             handle = open(\n\u001b[0m\u001b[1;32m    874\u001b[0m                 \u001b[0mhandle\u001b[0m\u001b[0;34m,\u001b[0m\u001b[0;34m\u001b[0m\u001b[0;34m\u001b[0m\u001b[0m\n\u001b[1;32m    875\u001b[0m                 \u001b[0mioargs\u001b[0m\u001b[0;34m.\u001b[0m\u001b[0mmode\u001b[0m\u001b[0;34m,\u001b[0m\u001b[0;34m\u001b[0m\u001b[0;34m\u001b[0m\u001b[0m\n",
            "\u001b[0;31mFileNotFoundError\u001b[0m: [Errno 2] No such file or directory: 'Instagram_data.csv'"
          ]
        }
      ],
      "source": [
        "df = pd.read_csv('Instagram_data.csv', encoding='latin1')\n",
        "#Character encoding is important because it determines how characters are represented as bytes in the file"
      ]
    },
    {
      "cell_type": "code",
      "source": [
        "df.head()"
      ],
      "metadata": {
        "id": "d_PQt1ZbcePf"
      },
      "id": "d_PQt1ZbcePf",
      "execution_count": null,
      "outputs": []
    },
    {
      "cell_type": "code",
      "execution_count": null,
      "id": "c20c72bf",
      "metadata": {
        "execution": {
          "iopub.execute_input": "2023-06-14T12:32:53.508064Z",
          "iopub.status.busy": "2023-06-14T12:32:53.507230Z",
          "iopub.status.idle": "2023-06-14T12:32:53.544617Z",
          "shell.execute_reply": "2023-06-14T12:32:53.543222Z"
        },
        "papermill": {
          "duration": 0.050482,
          "end_time": "2023-06-14T12:32:53.547753",
          "exception": false,
          "start_time": "2023-06-14T12:32:53.497271",
          "status": "completed"
        },
        "tags": [],
        "id": "c20c72bf"
      },
      "outputs": [],
      "source": [
        "df.head(2)"
      ]
    },
    {
      "cell_type": "markdown",
      "id": "4a9c7a43",
      "metadata": {
        "papermill": {
          "duration": 0.008553,
          "end_time": "2023-06-14T12:32:53.565853",
          "exception": false,
          "start_time": "2023-06-14T12:32:53.557300",
          "status": "completed"
        },
        "tags": [],
        "id": "4a9c7a43"
      },
      "source": [
        "# Data Exploration:"
      ]
    },
    {
      "cell_type": "code",
      "execution_count": null,
      "id": "49f38c49",
      "metadata": {
        "execution": {
          "iopub.execute_input": "2023-06-14T12:32:53.587034Z",
          "iopub.status.busy": "2023-06-14T12:32:53.586242Z",
          "iopub.status.idle": "2023-06-14T12:32:53.593555Z",
          "shell.execute_reply": "2023-06-14T12:32:53.592314Z"
        },
        "papermill": {
          "duration": 0.019796,
          "end_time": "2023-06-14T12:32:53.595982",
          "exception": false,
          "start_time": "2023-06-14T12:32:53.576186",
          "status": "completed"
        },
        "tags": [],
        "id": "49f38c49"
      },
      "outputs": [],
      "source": [
        "df.columns"
      ]
    },
    {
      "cell_type": "code",
      "execution_count": null,
      "id": "041d24d9",
      "metadata": {
        "execution": {
          "iopub.execute_input": "2023-06-14T12:32:53.615571Z",
          "iopub.status.busy": "2023-06-14T12:32:53.615106Z",
          "iopub.status.idle": "2023-06-14T12:32:53.643362Z",
          "shell.execute_reply": "2023-06-14T12:32:53.641956Z"
        },
        "papermill": {
          "duration": 0.041469,
          "end_time": "2023-06-14T12:32:53.646285",
          "exception": false,
          "start_time": "2023-06-14T12:32:53.604816",
          "status": "completed"
        },
        "tags": [],
        "id": "041d24d9"
      },
      "outputs": [],
      "source": [
        "df.info()\n",
        "#helps obtain a concise summary of a DataFrame's structure and information"
      ]
    },
    {
      "cell_type": "code",
      "execution_count": null,
      "id": "1384524d",
      "metadata": {
        "execution": {
          "iopub.execute_input": "2023-06-14T12:32:53.667291Z",
          "iopub.status.busy": "2023-06-14T12:32:53.666065Z",
          "iopub.status.idle": "2023-06-14T12:32:53.676883Z",
          "shell.execute_reply": "2023-06-14T12:32:53.675438Z"
        },
        "papermill": {
          "duration": 0.024506,
          "end_time": "2023-06-14T12:32:53.680196",
          "exception": false,
          "start_time": "2023-06-14T12:32:53.655690",
          "status": "completed"
        },
        "tags": [],
        "id": "1384524d"
      },
      "outputs": [],
      "source": [
        "df.isna().sum()"
      ]
    },
    {
      "cell_type": "code",
      "execution_count": null,
      "id": "80d5787a",
      "metadata": {
        "execution": {
          "iopub.execute_input": "2023-06-14T12:32:53.700780Z",
          "iopub.status.busy": "2023-06-14T12:32:53.700325Z",
          "iopub.status.idle": "2023-06-14T12:32:53.713100Z",
          "shell.execute_reply": "2023-06-14T12:32:53.711751Z"
        },
        "papermill": {
          "duration": 0.026264,
          "end_time": "2023-06-14T12:32:53.715754",
          "exception": false,
          "start_time": "2023-06-14T12:32:53.689490",
          "status": "completed"
        },
        "tags": [],
        "id": "80d5787a"
      },
      "outputs": [],
      "source": [
        "df.nunique()"
      ]
    },
    {
      "cell_type": "code",
      "execution_count": null,
      "id": "f7d79f6a",
      "metadata": {
        "execution": {
          "iopub.execute_input": "2023-06-14T12:32:53.736412Z",
          "iopub.status.busy": "2023-06-14T12:32:53.736041Z",
          "iopub.status.idle": "2023-06-14T12:32:53.793223Z",
          "shell.execute_reply": "2023-06-14T12:32:53.791935Z"
        },
        "papermill": {
          "duration": 0.071125,
          "end_time": "2023-06-14T12:32:53.796235",
          "exception": false,
          "start_time": "2023-06-14T12:32:53.725110",
          "status": "completed"
        },
        "tags": [],
        "id": "f7d79f6a"
      },
      "outputs": [],
      "source": [
        "df.describe().transpose()"
      ]
    },
    {
      "cell_type": "markdown",
      "id": "69d9a8e3",
      "metadata": {
        "papermill": {
          "duration": 0.00967,
          "end_time": "2023-06-14T12:32:53.816112",
          "exception": false,
          "start_time": "2023-06-14T12:32:53.806442",
          "status": "completed"
        },
        "tags": [],
        "id": "69d9a8e3"
      },
      "source": [
        "# Correlation Analysis:"
      ]
    },
    {
      "cell_type": "code",
      "execution_count": null,
      "id": "4443b428",
      "metadata": {
        "execution": {
          "iopub.execute_input": "2023-06-14T12:32:53.838939Z",
          "iopub.status.busy": "2023-06-14T12:32:53.837704Z",
          "iopub.status.idle": "2023-06-14T12:32:53.859366Z",
          "shell.execute_reply": "2023-06-14T12:32:53.857237Z"
        },
        "papermill": {
          "duration": 0.035225,
          "end_time": "2023-06-14T12:32:53.862011",
          "exception": false,
          "start_time": "2023-06-14T12:32:53.826786",
          "status": "completed"
        },
        "tags": [],
        "id": "4443b428"
      },
      "outputs": [],
      "source": [
        "# Calculate the correlation matrix\n",
        "correlation_matrix = df.corr()\n",
        "\n",
        "# Print the correlation matrix\n",
        "print(correlation_matrix)\n",
        "print()\n",
        "\n",
        "# Focus on the correlation between \"Impressions\" and other variables\n",
        "impressions_correlations = correlation_matrix['Impressions'].drop('Impressions')\n",
        "print(impressions_correlations)"
      ]
    },
    {
      "cell_type": "markdown",
      "id": "75205c69",
      "metadata": {
        "papermill": {
          "duration": 0.00973,
          "end_time": "2023-06-14T12:32:53.920560",
          "exception": false,
          "start_time": "2023-06-14T12:32:53.910830",
          "status": "completed"
        },
        "tags": [],
        "id": "75205c69"
      },
      "source": [
        "# Feature Engineering:"
      ]
    },
    {
      "cell_type": "code",
      "execution_count": null,
      "id": "ca3ca7ea",
      "metadata": {
        "execution": {
          "iopub.execute_input": "2023-06-14T12:32:53.942704Z",
          "iopub.status.busy": "2023-06-14T12:32:53.942245Z",
          "iopub.status.idle": "2023-06-14T12:32:53.955363Z",
          "shell.execute_reply": "2023-06-14T12:32:53.953995Z"
        },
        "papermill": {
          "duration": 0.027314,
          "end_time": "2023-06-14T12:32:53.957935",
          "exception": false,
          "start_time": "2023-06-14T12:32:53.930621",
          "status": "completed"
        },
        "tags": [],
        "id": "ca3ca7ea"
      },
      "outputs": [],
      "source": [
        "# Derive the \"Engagement Rate\" feature\n",
        "df['Engagement Rate'] = (df['Likes'] + df['Comments'] + df['Shares']) / df['Impressions']\n",
        "\n",
        "# Print the updated DataFrame\n",
        "print(df.head())"
      ]
    },
    {
      "cell_type": "code",
      "execution_count": null,
      "id": "7aee8f69",
      "metadata": {
        "execution": {
          "iopub.execute_input": "2023-06-14T12:32:53.980679Z",
          "iopub.status.busy": "2023-06-14T12:32:53.980028Z",
          "iopub.status.idle": "2023-06-14T12:32:54.001026Z",
          "shell.execute_reply": "2023-06-14T12:32:53.999603Z"
        },
        "papermill": {
          "duration": 0.035865,
          "end_time": "2023-06-14T12:32:54.004170",
          "exception": false,
          "start_time": "2023-06-14T12:32:53.968305",
          "status": "completed"
        },
        "tags": [],
        "id": "7aee8f69"
      },
      "outputs": [],
      "source": [
        "df.head(10).transpose()"
      ]
    },
    {
      "source": [
        "# @title Impressions vs From Home\n",
        "\n",
        "from matplotlib import pyplot as plt\n",
        "df.plot(kind='scatter', x='Impressions', y='From Home', s=32, alpha=.8)\n",
        "#alpha value sets transparecy : 80% opaque ; s: sets marker pixel size\n",
        "plt.gca().spines[['top', 'right',]].set_visible(False)"
      ],
      "cell_type": "code",
      "execution_count": null,
      "outputs": [],
      "metadata": {
        "id": "jazP6LUS3tCa"
      },
      "id": "jazP6LUS3tCa"
    },
    {
      "cell_type": "markdown",
      "id": "ed43611d",
      "metadata": {
        "papermill": {
          "duration": 0.010463,
          "end_time": "2023-06-14T12:32:54.026235",
          "exception": false,
          "start_time": "2023-06-14T12:32:54.015772",
          "status": "completed"
        },
        "tags": [],
        "id": "ed43611d"
      },
      "source": [
        "# Exploratory Data Analysis:"
      ]
    },
    {
      "cell_type": "code",
      "execution_count": null,
      "id": "a785b762",
      "metadata": {
        "execution": {
          "iopub.execute_input": "2023-06-14T12:32:54.049979Z",
          "iopub.status.busy": "2023-06-14T12:32:54.049503Z",
          "iopub.status.idle": "2023-06-14T12:32:54.056883Z",
          "shell.execute_reply": "2023-06-14T12:32:54.055976Z"
        },
        "papermill": {
          "duration": 0.022252,
          "end_time": "2023-06-14T12:32:54.059340",
          "exception": false,
          "start_time": "2023-06-14T12:32:54.037088",
          "status": "completed"
        },
        "tags": [],
        "id": "a785b762"
      },
      "outputs": [],
      "source": [
        "df.columns"
      ]
    },
    {
      "cell_type": "code",
      "execution_count": null,
      "id": "1ab1ca28",
      "metadata": {
        "execution": {
          "iopub.execute_input": "2023-06-14T12:32:54.083788Z",
          "iopub.status.busy": "2023-06-14T12:32:54.083120Z",
          "iopub.status.idle": "2023-06-14T12:32:57.851770Z",
          "shell.execute_reply": "2023-06-14T12:32:57.850278Z"
        },
        "papermill": {
          "duration": 3.78584,
          "end_time": "2023-06-14T12:32:57.856427",
          "exception": false,
          "start_time": "2023-06-14T12:32:54.070587",
          "status": "completed"
        },
        "tags": [],
        "id": "1ab1ca28"
      },
      "outputs": [],
      "source": [
        "# Analyze trends and patterns in features\n",
        "# Example 1: Trend of Reach over time\n",
        "plt.figure(figsize=(12, 6))\n",
        "sns.lineplot(x=df.index, y=df['Impressions'])\n",
        "plt.xlabel('Post Index')\n",
        "plt.ylabel('Reach (Impressions)')\n",
        "plt.title('Trend of Reach over Time')\n",
        "plt.show()"
      ]
    },
    {
      "cell_type": "code",
      "source": [
        "# Example 2: Bar chart of Reach from Different Sources\n",
        "plt.figure(figsize=(10, 6))\n",
        "sns.barplot(x=['From Home', 'From Hashtags', 'From Explore', 'From Other'],\n",
        "            y=[df['From Home'].mean(), df['From Hashtags'].mean(), df['From Explore'].mean(), df['From Other'].mean()])\n",
        "plt.xlabel('Source')\n",
        "plt.ylabel('Reach')\n",
        "plt.title('Reach from Different Sources')\n",
        "plt.show()"
      ],
      "metadata": {
        "id": "mV7s842zdT40"
      },
      "id": "mV7s842zdT40",
      "execution_count": null,
      "outputs": []
    },
    {
      "cell_type": "code",
      "source": [
        "# Analyze correlations between features\n",
        "plt.figure(figsize=(10, 8))\n",
        "sns.heatmap(df.corr(), annot=True, cmap='coolwarm')\n",
        "plt.title('Correlation Heatmap')\n",
        "plt.show()"
      ],
      "metadata": {
        "id": "YM1DThsZdcJ1"
      },
      "id": "YM1DThsZdcJ1",
      "execution_count": null,
      "outputs": []
    },
    {
      "cell_type": "code",
      "source": [
        "# Analyze factors such as post type, time of posting, and content themes\n",
        "# Example 3: Box plot of Reach by Post Type\n",
        "plt.figure(figsize=(22, 6))\n",
        "sns.boxplot(x=df['Profile Visits'], y=df['Impressions'])\n",
        "plt.xlabel('Profile Visits')\n",
        "plt.ylabel('Reach (Impressions)')\n",
        "plt.title('Reach by Post Type')\n",
        "plt.show()"
      ],
      "metadata": {
        "id": "W8GjmeicdgjV"
      },
      "id": "W8GjmeicdgjV",
      "execution_count": null,
      "outputs": []
    },
    {
      "cell_type": "code",
      "source": [
        "# Example 4: Word cloud of the most used hashtags\n",
        "from wordcloud import WordCloud\n",
        "\n",
        "hashtags = ' '.join(df['Hashtags'].dropna().tolist())\n",
        "wordcloud = WordCloud(width=800, height=400, background_color='white').generate(hashtags)\n",
        "\n",
        "plt.figure(figsize=(12, 8))\n",
        "plt.imshow(wordcloud, interpolation='bilinear')\n",
        "plt.axis('off')\n",
        "plt.title('Most Used Hashtags')\n",
        "plt.show()"
      ],
      "metadata": {
        "id": "yNxjzeWudg2K"
      },
      "id": "yNxjzeWudg2K",
      "execution_count": null,
      "outputs": []
    },
    {
      "cell_type": "code",
      "execution_count": null,
      "id": "a78eb5f4",
      "metadata": {
        "execution": {
          "iopub.execute_input": "2023-06-14T12:32:57.902845Z",
          "iopub.status.busy": "2023-06-14T12:32:57.902363Z",
          "iopub.status.idle": "2023-06-14T12:32:57.909003Z",
          "shell.execute_reply": "2023-06-14T12:32:57.907679Z"
        },
        "papermill": {
          "duration": 0.033365,
          "end_time": "2023-06-14T12:32:57.911172",
          "exception": false,
          "start_time": "2023-06-14T12:32:57.877807",
          "status": "completed"
        },
        "tags": [],
        "id": "a78eb5f4"
      },
      "outputs": [],
      "source": [
        "df.index"
      ]
    },
    {
      "cell_type": "code",
      "execution_count": null,
      "id": "50c0c25b",
      "metadata": {
        "execution": {
          "iopub.execute_input": "2023-06-14T12:32:57.956429Z",
          "iopub.status.busy": "2023-06-14T12:32:57.954928Z",
          "iopub.status.idle": "2023-06-14T12:32:57.962814Z",
          "shell.execute_reply": "2023-06-14T12:32:57.961884Z"
        },
        "papermill": {
          "duration": 0.033292,
          "end_time": "2023-06-14T12:32:57.965228",
          "exception": false,
          "start_time": "2023-06-14T12:32:57.931936",
          "status": "completed"
        },
        "tags": [],
        "id": "50c0c25b"
      },
      "outputs": [],
      "source": [
        "df.columns"
      ]
    },
    {
      "cell_type": "markdown",
      "id": "80f5ce37",
      "metadata": {
        "papermill": {
          "duration": 0.026552,
          "end_time": "2023-06-14T12:32:58.013868",
          "exception": false,
          "start_time": "2023-06-14T12:32:57.987316",
          "status": "completed"
        },
        "tags": [],
        "id": "80f5ce37"
      },
      "source": [
        "# Predictive Modeling:"
      ]
    },
    {
      "cell_type": "code",
      "execution_count": null,
      "id": "8a0de362",
      "metadata": {
        "execution": {
          "iopub.execute_input": "2023-06-14T12:32:58.068999Z",
          "iopub.status.busy": "2023-06-14T12:32:58.068212Z",
          "iopub.status.idle": "2023-06-14T12:32:58.614344Z",
          "shell.execute_reply": "2023-06-14T12:32:58.612783Z"
        },
        "papermill": {
          "duration": 0.577186,
          "end_time": "2023-06-14T12:32:58.617415",
          "exception": false,
          "start_time": "2023-06-14T12:32:58.040229",
          "status": "completed"
        },
        "tags": [],
        "id": "8a0de362"
      },
      "outputs": [],
      "source": [
        "from sklearn.model_selection import train_test_split\n",
        "from sklearn.linear_model import LinearRegression\n",
        "from sklearn.metrics import mean_squared_error, r2_score\n",
        "\n",
        "# Load the Instagram data into a DataFrame\n",
        "df = pd.read_csv('Instagram_data.csv', encoding='latin1')\n",
        "\n",
        "# Select the relevant features for prediction\n",
        "X = df[['From Home', 'From Hashtags', 'From Explore', 'From Other', 'Saves', 'Comments', 'Shares', 'Likes', 'Profile Visits', 'Follows']]\n",
        "y = df['Impressions']\n",
        "\n",
        "# Split the data into training and testing sets\n",
        "X_train, X_test, y_train, y_test = train_test_split(X, y, test_size=0.2, random_state=42)\n",
        "\n",
        "# Select and train the machine learning model\n",
        "model = LinearRegression()\n",
        "model.fit(X_train, y_train)\n",
        "\n",
        "# Make predictions on the testing set\n",
        "y_pred = model.predict(X_test)\n",
        "\n",
        "# Evaluate the model's performance using appropriate metrics\n",
        "mse = mean_squared_error(y_test, y_pred)\n",
        "r2 = r2_score(y_test, y_pred)\n",
        "\n",
        "print(\"Mean Squared Error:\", mse)\n",
        "print(\"R-squared:\", r2)\n",
        "\n",
        "# Use the trained model to predict the reach for new or future posts\n",
        "new_data = pd.DataFrame({\n",
        "    'From Home': [10],\n",
        "    'From Hashtags': [5],\n",
        "    'From Explore': [2],\n",
        "    'From Other': [3],\n",
        "    'Saves': [50],\n",
        "    'Comments': [20],\n",
        "    'Shares': [10],\n",
        "    'Likes': [100],\n",
        "    'Profile Visits': [30],\n",
        "    'Follows': [5]\n",
        "})\n",
        "\n",
        "predicted_reach = model.predict(new_data)\n",
        "print(\"Predicted Reach:\", predicted_reach)\n"
      ]
    },
    {
      "cell_type": "markdown",
      "id": "8fa3c48c",
      "metadata": {
        "papermill": {
          "duration": 0.021389,
          "end_time": "2023-06-14T12:32:58.660479",
          "exception": false,
          "start_time": "2023-06-14T12:32:58.639090",
          "status": "completed"
        },
        "tags": [],
        "id": "8fa3c48c"
      },
      "source": [
        "# Interpretation and Recommendations:"
      ]
    },
    {
      "cell_type": "code",
      "execution_count": null,
      "id": "f56c0c49",
      "metadata": {
        "execution": {
          "iopub.execute_input": "2023-06-14T12:32:58.705385Z",
          "iopub.status.busy": "2023-06-14T12:32:58.704417Z",
          "iopub.status.idle": "2023-06-14T12:32:58.727941Z",
          "shell.execute_reply": "2023-06-14T12:32:58.726255Z"
        },
        "papermill": {
          "duration": 0.048837,
          "end_time": "2023-06-14T12:32:58.730384",
          "exception": false,
          "start_time": "2023-06-14T12:32:58.681547",
          "status": "completed"
        },
        "tags": [],
        "id": "f56c0c49"
      },
      "outputs": [],
      "source": [
        "\n",
        "from sklearn.linear_model import LinearRegression\n",
        "\n",
        "# Load the Instagram data into a DataFrame\n",
        "df = pd.read_csv('Instagram_data.csv', encoding='latin1')\n",
        "\n",
        "# Select the relevant features for prediction\n",
        "X = df[['From Home', 'From Hashtags', 'From Explore', 'From Other', 'Saves', 'Comments', 'Shares', 'Likes', 'Profile Visits', 'Follows']]\n",
        "y = df['Impressions']\n",
        "\n",
        "# Train the machine learning model\n",
        "model = LinearRegression()\n",
        "model.fit(X, y)\n",
        "\n",
        "# Interpret the coefficients or feature importances\n",
        "coefficients = model.coef_\n",
        "# these coefficients represent the weights assigned to each feature in the linear equation\n",
        "\n",
        "print(coefficients)\n",
        "print(\"\\n\")\n",
        "feature_importances = abs(coefficients) / abs(coefficients).sum()\n",
        "\n",
        "# Identify the key factors that significantly influence reach\n",
        "key_factors = pd.DataFrame({\n",
        "    'Feature': X.columns,\n",
        "    'Coefficient': coefficients,\n",
        "    'Feature Importance': feature_importances\n",
        "})\n",
        "key_factors = key_factors.sort_values(by='Coefficient', ascending=False)\n",
        "\n",
        "# Print the key factors and their impact on reach\n",
        "print(key_factors)\n",
        "\n",
        "# Recommendations to optimize reach\n",
        "\n",
        "# 1. Optimize the use of hashtags:\n",
        "# Based on the impact on reach from hashtags, analyze the hashtags used in successful posts.\n",
        "# Identify popular and relevant hashtags in the niche and incorporate them strategically.\n",
        "\n",
        "# 2. Encourage engagement:\n",
        "# Focus on generating saves, comments, and shares as they positively influence reach.\n",
        "# Create compelling and shareable content that encourages interaction and discussion among the audience.\n",
        "\n",
        "# 3. Analyze post types and content themes:\n",
        "# Explore the impact of different post types (photos, videos) on reach.\n",
        "# Analyze the performance of various content themes or topics to identify what resonates best with the audience.\n",
        "\n",
        "# 4. Understand reach from different sources:\n",
        "# Analyze the reach from different sources such as home, explore, and others.\n",
        "# Determine the distribution of audience engagement and consider adjusting strategies to target specific sources more effectively.\n"
      ]
    },
    {
      "cell_type": "markdown",
      "source": [],
      "metadata": {
        "id": "pwPdcsEAbEzI"
      },
      "id": "pwPdcsEAbEzI"
    },
    {
      "cell_type": "code",
      "execution_count": null,
      "id": "2e95db1a",
      "metadata": {
        "execution": {
          "iopub.execute_input": "2023-06-14T12:32:58.774536Z",
          "iopub.status.busy": "2023-06-14T12:32:58.773295Z",
          "iopub.status.idle": "2023-06-14T12:32:58.790820Z",
          "shell.execute_reply": "2023-06-14T12:32:58.789561Z"
        },
        "papermill": {
          "duration": 0.042653,
          "end_time": "2023-06-14T12:32:58.793713",
          "exception": false,
          "start_time": "2023-06-14T12:32:58.751060",
          "status": "completed"
        },
        "tags": [],
        "id": "2e95db1a"
      },
      "outputs": [],
      "source": [
        "df.to_csv(' Instagram_Reach_Analysis_data.csv', index=True)"
      ]
    }
  ],
  "metadata": {
    "kernelspec": {
      "display_name": "Python 3",
      "language": "python",
      "name": "python3"
    },
    "language_info": {
      "codemirror_mode": {
        "name": "ipython",
        "version": 3
      },
      "file_extension": ".py",
      "mimetype": "text/x-python",
      "name": "python",
      "nbconvert_exporter": "python",
      "pygments_lexer": "ipython3",
      "version": "3.10.10"
    },
    "papermill": {
      "default_parameters": {},
      "duration": 21.562896,
      "end_time": "2023-06-14T12:32:59.979761",
      "environment_variables": {},
      "exception": null,
      "input_path": "__notebook__.ipynb",
      "output_path": "__notebook__.ipynb",
      "parameters": {},
      "start_time": "2023-06-14T12:32:38.416865",
      "version": "2.4.0"
    },
    "colab": {
      "provenance": []
    }
  },
  "nbformat": 4,
  "nbformat_minor": 5
}